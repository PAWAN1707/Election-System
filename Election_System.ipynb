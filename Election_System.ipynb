{
 "cells": [
  {
   "cell_type": "code",
   "execution_count": 1,
   "id": "45152ce1-e7b7-4546-b7e8-6675d25c3a5e",
   "metadata": {},
   "outputs": [
    {
     "name": "stdout",
     "output_type": "stream",
     "text": [
      "Admin credentials have been set up.\n"
     ]
    }
   ],
   "source": [
    "import sqlite3\n",
    "\n",
    "# Connect to SQLite database\n",
    "conn = sqlite3.connect('election_system.db')\n",
    "cursor = conn.cursor()\n",
    "\n",
    "# Create tables if they do not exist\n",
    "cursor.execute('''\n",
    "    CREATE TABLE IF NOT EXISTS admins (\n",
    "        id INTEGER PRIMARY KEY,\n",
    "        password TEXT NOT NULL\n",
    "    )\n",
    "''')\n",
    "\n",
    "# Insert admin credentials if not already present\n",
    "def insert_admin(admin_id, password):\n",
    "    cursor.execute('''\n",
    "        INSERT OR IGNORE INTO admins (id, password)\n",
    "        VALUES (?, ?)\n",
    "    ''', (admin_id, password))\n",
    "    conn.commit()\n",
    "\n",
    "# Example: Insert admin with ID 1 and password '12345'\n",
    "insert_admin(1, '12345')\n",
    "\n",
    "print(\"Admin credentials have been set up.\")\n",
    "\n",
    "conn.close()\n"
   ]
  },
  {
   "cell_type": "code",
   "execution_count": 3,
   "id": "18cf1696-8432-4575-b62c-beeba3d8ccba",
   "metadata": {},
   "outputs": [
    {
     "name": "stdout",
     "output_type": "stream",
     "text": [
      "Maharashtra Legislative Assembly Election 2022 Conducted by State Election Commission\n",
      "1 if you're an ADMIN\n",
      "2 if you're a VOTER\n",
      "3 to EXIT\n"
     ]
    },
    {
     "name": "stdin",
     "output_type": "stream",
     "text": [
      "Enter choice:  1\n"
     ]
    },
    {
     "name": "stdout",
     "output_type": "stream",
     "text": [
      "Welcome! You have 3 login attempts.\n"
     ]
    },
    {
     "name": "stdin",
     "output_type": "stream",
     "text": [
      "Enter Admin ID:  12345\n",
      "Enter password:  1\n"
     ]
    },
    {
     "name": "stdout",
     "output_type": "stream",
     "text": [
      "Invalid credentials. You have 2 attempt(s) left.\n"
     ]
    },
    {
     "name": "stdin",
     "output_type": "stream",
     "text": [
      "Enter Admin ID:  Shirdi\n",
      "Enter password:  df\n"
     ]
    },
    {
     "name": "stdout",
     "output_type": "stream",
     "text": [
      "Invalid credentials. You have 1 attempt(s) left.\n"
     ]
    },
    {
     "name": "stdin",
     "output_type": "stream",
     "text": [
      "Enter Admin ID:  1\n",
      "Enter password:  12345\n"
     ]
    },
    {
     "name": "stdout",
     "output_type": "stream",
     "text": [
      "Welcome Admin 1\n",
      "Press:\n",
      "1 to Conduct Election\n",
      "2 to Add Voter\n",
      "3 to Update Voter\n",
      "4 to Add Candidate\n",
      "5 to LOG OUT\n"
     ]
    },
    {
     "name": "stdin",
     "output_type": "stream",
     "text": [
      "Enter choice:  1\n",
      "Enter Constituency Name:  Shiri\n"
     ]
    },
    {
     "name": "stdout",
     "output_type": "stream",
     "text": [
      "Constituency Added!\n"
     ]
    },
    {
     "name": "stdin",
     "output_type": "stream",
     "text": [
      "Enter Month:  9\n",
      "Enter Day:  9\n",
      "Enter Hour:  9\n",
      "Enter Minutes:  30\n"
     ]
    },
    {
     "name": "stdout",
     "output_type": "stream",
     "text": [
      "Please set a date in the future!\n"
     ]
    },
    {
     "name": "stdin",
     "output_type": "stream",
     "text": [
      "Enter Constituency Name:  Shirdi\n"
     ]
    },
    {
     "name": "stdout",
     "output_type": "stream",
     "text": [
      "Constituency Added!\n"
     ]
    },
    {
     "name": "stdin",
     "output_type": "stream",
     "text": [
      "Enter Month:  11\n",
      "Enter Day:  11\n",
      "Enter Hour:  11\n",
      "Enter Minutes:  30\n",
      "Enter Election Duration in Days:  10\n"
     ]
    },
    {
     "name": "stdout",
     "output_type": "stream",
     "text": [
      "Election Start time is Mon Nov 11 11:30:00 2024\n",
      "Election End time is Thu Nov 21 11:30:00 2024\n",
      "Election Details:\n",
      "Constituency: Shirdi\n",
      "From: 2024/11/11/11:30:00\n",
      "To: 2024/11/21/11:30:001\n",
      "Press:\n",
      "1 to Conduct Election\n",
      "2 to Add Voter\n",
      "3 to Update Voter\n",
      "4 to Add Candidate\n",
      "5 to LOG OUT\n"
     ]
    },
    {
     "name": "stdin",
     "output_type": "stream",
     "text": [
      "Enter choice:  2\n",
      "Full Name:  Pawan\n",
      "Please Choose Constituency:  Pune\n",
      "Please Enter Date of Birth in YYYY/MM/DD format:  2000/07/17\n"
     ]
    },
    {
     "name": "stdout",
     "output_type": "stream",
     "text": [
      "Voter details added:\n",
      "Name: Pawan\n",
      "Constituency: Pune\n",
      "Date of Birth: 2000/07/17\n",
      "Password: izHp9bGR\n",
      "Press:\n",
      "1 to Conduct Election\n",
      "2 to Add Voter\n",
      "3 to Update Voter\n",
      "4 to Add Candidate\n",
      "5 to LOG OUT\n"
     ]
    },
    {
     "name": "stdin",
     "output_type": "stream",
     "text": [
      "Enter choice:  2\n",
      "Full Name:  Gaurav\n",
      "Please Choose Constituency:  Pune\n",
      "Please Enter Date of Birth in YYYY/MM/DD format:  1996/12/01\n"
     ]
    },
    {
     "name": "stdout",
     "output_type": "stream",
     "text": [
      "Voter details added:\n",
      "Name: Gaurav\n",
      "Constituency: Pune\n",
      "Date of Birth: 1996/12/01\n",
      "Password: QBTmoPZy\n",
      "Press:\n",
      "1 to Conduct Election\n",
      "2 to Add Voter\n",
      "3 to Update Voter\n",
      "4 to Add Candidate\n",
      "5 to LOG OUT\n"
     ]
    },
    {
     "name": "stdin",
     "output_type": "stream",
     "text": [
      "Enter choice:  3\n",
      "Enter Voter ID to update:  2\n"
     ]
    },
    {
     "name": "stdout",
     "output_type": "stream",
     "text": [
      "Update:\n",
      "1 Name\n",
      "2 Constituency\n",
      "3 Date of Birth\n",
      "4 Return to Menu\n"
     ]
    },
    {
     "name": "stdin",
     "output_type": "stream",
     "text": [
      "Enter choice:  1\n",
      "Enter new full name:  Kavita\n"
     ]
    },
    {
     "name": "stdout",
     "output_type": "stream",
     "text": [
      "Voter details updated!\n",
      "Press:\n",
      "1 to Conduct Election\n",
      "2 to Add Voter\n",
      "3 to Update Voter\n",
      "4 to Add Candidate\n",
      "5 to LOG OUT\n"
     ]
    },
    {
     "name": "stdin",
     "output_type": "stream",
     "text": [
      "Enter choice:  4\n",
      "Enter Candidate Name:  Chacha vidhayak hai hmare\n",
      "Enter Constituency Name:  Pune\n"
     ]
    },
    {
     "name": "stdout",
     "output_type": "stream",
     "text": [
      "Candidate Chacha vidhayak hai hmare added to Pune.\n",
      "Press:\n",
      "1 to Conduct Election\n",
      "2 to Add Voter\n",
      "3 to Update Voter\n",
      "4 to Add Candidate\n",
      "5 to LOG OUT\n"
     ]
    },
    {
     "name": "stdin",
     "output_type": "stream",
     "text": [
      "Enter choice:  4\n",
      "Enter Candidate Name:  Choudhary uncle\n",
      "Enter Constituency Name:  Pune\n"
     ]
    },
    {
     "name": "stdout",
     "output_type": "stream",
     "text": [
      "Candidate Choudhary uncle added to Pune.\n",
      "Press:\n",
      "1 to Conduct Election\n",
      "2 to Add Voter\n",
      "3 to Update Voter\n",
      "4 to Add Candidate\n",
      "5 to LOG OUT\n"
     ]
    },
    {
     "name": "stdin",
     "output_type": "stream",
     "text": [
      "Enter choice:  2\n",
      "Full Name:  Pradeep\n",
      "Please Choose Constituency:  Pune\n",
      "Please Enter Date of Birth in YYYY/MM/DD format:  2001/06/21\n"
     ]
    },
    {
     "name": "stdout",
     "output_type": "stream",
     "text": [
      "Voter details added:\n",
      "Name: Pradeep\n",
      "Constituency: Pune\n",
      "Date of Birth: 2001/06/21\n",
      "Password: CkiIi2T5\n",
      "Press:\n",
      "1 to Conduct Election\n",
      "2 to Add Voter\n",
      "3 to Update Voter\n",
      "4 to Add Candidate\n",
      "5 to LOG OUT\n"
     ]
    },
    {
     "name": "stdin",
     "output_type": "stream",
     "text": [
      "Enter choice:  5\n"
     ]
    },
    {
     "name": "stdout",
     "output_type": "stream",
     "text": [
      "Logging out...\n",
      "Maharashtra Legislative Assembly Election 2022 Conducted by State Election Commission\n",
      "1 if you're an ADMIN\n",
      "2 if you're a VOTER\n",
      "3 to EXIT\n"
     ]
    },
    {
     "name": "stdin",
     "output_type": "stream",
     "text": [
      "Enter choice:  2\n"
     ]
    },
    {
     "name": "stdout",
     "output_type": "stream",
     "text": [
      "Welcome! You have 3 login attempts.\n"
     ]
    },
    {
     "name": "stdin",
     "output_type": "stream",
     "text": [
      "Please Enter Voter ID:  2\n",
      "Please Enter Password:  QBTmoPZy\n"
     ]
    },
    {
     "name": "stdout",
     "output_type": "stream",
     "text": [
      "Welcome Voter 2!\n",
      "Press:\n",
      "1 to VOTE\n",
      "2 to CHECK RESULT\n",
      "3 to CHECK LIVE POLL\n",
      "4 to LOG OUT\n"
     ]
    },
    {
     "name": "stdin",
     "output_type": "stream",
     "text": [
      "Enter choice:  1\n"
     ]
    },
    {
     "name": "stdout",
     "output_type": "stream",
     "text": [
      "Candidates:\n",
      "1: Chacha vidhayak hai hmare\n",
      "2: Choudhary uncle\n"
     ]
    },
    {
     "name": "stdin",
     "output_type": "stream",
     "text": [
      "Enter the ID of the candidate you want to vote for:  1\n"
     ]
    },
    {
     "name": "stdout",
     "output_type": "stream",
     "text": [
      "Your vote has been recorded.\n",
      "Press:\n",
      "1 to VOTE\n",
      "2 to CHECK RESULT\n",
      "3 to CHECK LIVE POLL\n",
      "4 to LOG OUT\n"
     ]
    },
    {
     "name": "stdin",
     "output_type": "stream",
     "text": [
      "Enter choice:  1\n"
     ]
    },
    {
     "name": "stdout",
     "output_type": "stream",
     "text": [
      "Candidates:\n",
      "1: Chacha vidhayak hai hmare\n",
      "2: Choudhary uncle\n"
     ]
    },
    {
     "name": "stdin",
     "output_type": "stream",
     "text": [
      "Enter the ID of the candidate you want to vote for:  1\n"
     ]
    },
    {
     "name": "stdout",
     "output_type": "stream",
     "text": [
      "You have already voted for this candidate.\n",
      "Press:\n",
      "1 to VOTE\n",
      "2 to CHECK RESULT\n",
      "3 to CHECK LIVE POLL\n",
      "4 to LOG OUT\n"
     ]
    },
    {
     "name": "stdin",
     "output_type": "stream",
     "text": [
      "Enter choice:  1\n"
     ]
    },
    {
     "name": "stdout",
     "output_type": "stream",
     "text": [
      "Candidates:\n",
      "1: Chacha vidhayak hai hmare\n",
      "2: Choudhary uncle\n"
     ]
    },
    {
     "name": "stdin",
     "output_type": "stream",
     "text": [
      "Enter the ID of the candidate you want to vote for:  2\n"
     ]
    },
    {
     "name": "stdout",
     "output_type": "stream",
     "text": [
      "Your vote has been recorded.\n",
      "Press:\n",
      "1 to VOTE\n",
      "2 to CHECK RESULT\n",
      "3 to CHECK LIVE POLL\n",
      "4 to LOG OUT\n"
     ]
    },
    {
     "name": "stdin",
     "output_type": "stream",
     "text": [
      "Enter choice:  1\n"
     ]
    },
    {
     "name": "stdout",
     "output_type": "stream",
     "text": [
      "Candidates:\n",
      "1: Chacha vidhayak hai hmare\n",
      "2: Choudhary uncle\n"
     ]
    },
    {
     "name": "stdin",
     "output_type": "stream",
     "text": [
      "Enter the ID of the candidate you want to vote for:  2\n"
     ]
    },
    {
     "name": "stdout",
     "output_type": "stream",
     "text": [
      "You have already voted for this candidate.\n",
      "Press:\n",
      "1 to VOTE\n",
      "2 to CHECK RESULT\n",
      "3 to CHECK LIVE POLL\n",
      "4 to LOG OUT\n"
     ]
    },
    {
     "name": "stdin",
     "output_type": "stream",
     "text": [
      "Enter choice:  2\n",
      "Enter Constituency Name:  Pune\n"
     ]
    },
    {
     "name": "stdout",
     "output_type": "stream",
     "text": [
      "Results:\n",
      "Candidate: Chacha vidhayak hai hmare, Votes: 1\n",
      "Candidate: Choudhary uncle, Votes: 1\n",
      "Press:\n",
      "1 to VOTE\n",
      "2 to CHECK RESULT\n",
      "3 to CHECK LIVE POLL\n",
      "4 to LOG OUT\n"
     ]
    },
    {
     "name": "stdin",
     "output_type": "stream",
     "text": [
      "Enter choice:  4\n"
     ]
    },
    {
     "name": "stdout",
     "output_type": "stream",
     "text": [
      "Logging out...\n",
      "Maharashtra Legislative Assembly Election 2022 Conducted by State Election Commission\n",
      "1 if you're an ADMIN\n",
      "2 if you're a VOTER\n",
      "3 to EXIT\n"
     ]
    },
    {
     "name": "stdin",
     "output_type": "stream",
     "text": [
      "Enter choice:  2\n"
     ]
    },
    {
     "name": "stdout",
     "output_type": "stream",
     "text": [
      "Welcome! You have 3 login attempts.\n"
     ]
    },
    {
     "name": "stdin",
     "output_type": "stream",
     "text": [
      "Please Enter Voter ID:  1\n",
      "Please Enter Password:  izHp9bGR\n"
     ]
    },
    {
     "name": "stdout",
     "output_type": "stream",
     "text": [
      "Welcome Voter 1!\n",
      "Press:\n",
      "1 to VOTE\n",
      "2 to CHECK RESULT\n",
      "3 to CHECK LIVE POLL\n",
      "4 to LOG OUT\n"
     ]
    },
    {
     "name": "stdin",
     "output_type": "stream",
     "text": [
      "Enter choice:  1\n"
     ]
    },
    {
     "name": "stdout",
     "output_type": "stream",
     "text": [
      "Candidates:\n",
      "1: Chacha vidhayak hai hmare\n",
      "2: Choudhary uncle\n"
     ]
    },
    {
     "name": "stdin",
     "output_type": "stream",
     "text": [
      "Enter the ID of the candidate you want to vote for:  1\n"
     ]
    },
    {
     "name": "stdout",
     "output_type": "stream",
     "text": [
      "Your vote has been recorded.\n",
      "Press:\n",
      "1 to VOTE\n",
      "2 to CHECK RESULT\n",
      "3 to CHECK LIVE POLL\n",
      "4 to LOG OUT\n"
     ]
    },
    {
     "name": "stdin",
     "output_type": "stream",
     "text": [
      "Enter choice:  2\n",
      "Enter Constituency Name:  Pune\n"
     ]
    },
    {
     "name": "stdout",
     "output_type": "stream",
     "text": [
      "Results:\n",
      "Candidate: Chacha vidhayak hai hmare, Votes: 2\n",
      "Candidate: Choudhary uncle, Votes: 1\n",
      "Press:\n",
      "1 to VOTE\n",
      "2 to CHECK RESULT\n",
      "3 to CHECK LIVE POLL\n",
      "4 to LOG OUT\n"
     ]
    },
    {
     "name": "stdin",
     "output_type": "stream",
     "text": [
      "Enter choice:  3\n",
      "Enter Constituency Name:  Pune\n"
     ]
    },
    {
     "name": "stdout",
     "output_type": "stream",
     "text": [
      "Poll has not started yet. It will start on Thu Oct 10 02:30:00 2024.\n",
      "Press:\n",
      "1 to VOTE\n",
      "2 to CHECK RESULT\n",
      "3 to CHECK LIVE POLL\n",
      "4 to LOG OUT\n"
     ]
    },
    {
     "name": "stdin",
     "output_type": "stream",
     "text": [
      "Enter choice:  4\n"
     ]
    },
    {
     "name": "stdout",
     "output_type": "stream",
     "text": [
      "Logging out...\n",
      "Maharashtra Legislative Assembly Election 2022 Conducted by State Election Commission\n",
      "1 if you're an ADMIN\n",
      "2 if you're a VOTER\n",
      "3 to EXIT\n"
     ]
    },
    {
     "name": "stdin",
     "output_type": "stream",
     "text": [
      "Enter choice:  3\n"
     ]
    },
    {
     "name": "stdout",
     "output_type": "stream",
     "text": [
      "Exiting...\n"
     ]
    }
   ],
   "source": [
    "import sqlite3\n",
    "from datetime import datetime, timedelta\n",
    "import random\n",
    "import string\n",
    "\n",
    "# Connect to SQLite database (or create it if it doesn't exist)\n",
    "conn = sqlite3.connect('election_system.db')\n",
    "cursor = conn.cursor()\n",
    "\n",
    "# Create tables if they do not exist\n",
    "cursor.execute('''\n",
    "    CREATE TABLE IF NOT EXISTS admins (\n",
    "        id INTEGER PRIMARY KEY,\n",
    "        password TEXT NOT NULL\n",
    "    )\n",
    "''')\n",
    "\n",
    "cursor.execute('''\n",
    "    CREATE TABLE IF NOT EXISTS constituencies (\n",
    "        name TEXT PRIMARY KEY,\n",
    "        commencement_date TEXT,\n",
    "        end_date TEXT\n",
    "    )\n",
    "''')\n",
    "\n",
    "cursor.execute('''\n",
    "    CREATE TABLE IF NOT EXISTS voters (\n",
    "        id INTEGER PRIMARY KEY AUTOINCREMENT,\n",
    "        full_name TEXT NOT NULL,\n",
    "        constituency TEXT,\n",
    "        dob TEXT,\n",
    "        password TEXT NOT NULL\n",
    "    )\n",
    "''')\n",
    "\n",
    "cursor.execute('''\n",
    "    CREATE TABLE IF NOT EXISTS candidates (\n",
    "        id INTEGER PRIMARY KEY AUTOINCREMENT,\n",
    "        name TEXT NOT NULL,\n",
    "        constituency TEXT NOT NULL,\n",
    "        FOREIGN KEY (constituency) REFERENCES constituencies(name)\n",
    "    )\n",
    "''')\n",
    "\n",
    "cursor.execute('''\n",
    "    CREATE TABLE IF NOT EXISTS votes (\n",
    "        voter_id INTEGER,\n",
    "        candidate_id INTEGER,\n",
    "        FOREIGN KEY (voter_id) REFERENCES voters(id),\n",
    "        FOREIGN KEY (candidate_id) REFERENCES candidates(id),\n",
    "        PRIMARY KEY (voter_id, candidate_id)\n",
    "    )\n",
    "''')\n",
    "\n",
    "\n",
    "# Check admin credentials\n",
    "def validate_admin(admin_id, password):\n",
    "    cursor.execute('''\n",
    "        SELECT * FROM admins WHERE id = ? AND password = ?\n",
    "    ''', (admin_id, password))\n",
    "    return cursor.fetchone()\n",
    "\n",
    "# Add a new constituency\n",
    "def add_constituency(name, commencement_date, end_date):\n",
    "    cursor.execute('''\n",
    "        INSERT INTO constituencies (name, commencement_date, end_date)\n",
    "        VALUES (?, ?, ?)\n",
    "    ''', (name, commencement_date, end_date))\n",
    "    conn.commit()\n",
    "\n",
    "# Check if constituency already exists\n",
    "def constituency_exists(name):\n",
    "    cursor.execute('''\n",
    "        SELECT * FROM constituencies WHERE name = ?\n",
    "    ''', (name,))\n",
    "    return cursor.fetchone() is not None\n",
    "\n",
    "# Add a new voter\n",
    "def add_voter(full_name, constituency, dob):\n",
    "    password = ''.join(random.choices(string.ascii_letters + string.digits, k=8))\n",
    "    cursor.execute('''\n",
    "        INSERT INTO voters (full_name, constituency, dob, password)\n",
    "        VALUES (?, ?, ?, ?)\n",
    "    ''', (full_name, constituency, dob, password))\n",
    "    conn.commit()\n",
    "    return password\n",
    "\n",
    "# Validate voter credentials\n",
    "def validate_voter(voter_id, password):\n",
    "    cursor.execute('''\n",
    "        SELECT * FROM voters WHERE id = ? AND password = ?\n",
    "    ''', (voter_id, password))\n",
    "    return cursor.fetchone()\n",
    "\n",
    "# Get constituency details\n",
    "def get_constituency_details(name):\n",
    "    cursor.execute('''\n",
    "        SELECT * FROM constituencies WHERE name = ?\n",
    "    ''', (name,))\n",
    "    return cursor.fetchone()\n",
    "\n",
    "# Function to add a candidate\n",
    "def add_candidate(name, constituency):\n",
    "    cursor.execute('INSERT INTO candidates (name, constituency) VALUES (?, ?)', (name, constituency))\n",
    "    conn.commit()\n",
    "    print(f\"Candidate {name} added to {constituency}.\")\n",
    "\n",
    "# Function to add candidate via admin action\n",
    "def add_candidate_action():\n",
    "    name = input(\"Enter Candidate Name: \")\n",
    "    constituency = input(\"Enter Constituency Name: \")\n",
    "\n",
    "    if not constituency_exists(constituency):\n",
    "        print(\"Constituency does not exist!\")\n",
    "        return\n",
    "    \n",
    "    add_candidate(name, constituency)\n",
    "\n",
    "# Main menu\n",
    "def main_menu():\n",
    "    while True:\n",
    "        print(\"Maharashtra Legislative Assembly Election 2022 Conducted by State Election Commission\")\n",
    "        print(\"1 if you're an ADMIN\")\n",
    "        print(\"2 if you're a VOTER\")\n",
    "        print(\"3 to EXIT\")\n",
    "        choice = input(\"Enter choice: \")\n",
    "\n",
    "        if choice == '1':\n",
    "            admin_login()\n",
    "        elif choice == '2':\n",
    "            voter_login()\n",
    "        elif choice == '3':\n",
    "            print(\"Exiting...\")\n",
    "            break\n",
    "        else:\n",
    "            print(\"Invalid choice. Please try again.\")\n",
    "\n",
    "# Admin login\n",
    "def admin_login():\n",
    "    print(\"Welcome! You have 3 login attempts.\")\n",
    "    attempts = 3\n",
    "    while attempts > 0:\n",
    "        admin_id = input(\"Enter Admin ID: \")\n",
    "        password = input(\"Enter password: \")\n",
    "\n",
    "        if validate_admin(admin_id, password):\n",
    "            print(f\"Welcome Admin {admin_id}\")\n",
    "            admin_actions()\n",
    "            return\n",
    "        else:\n",
    "            attempts -= 1\n",
    "            print(f\"Invalid credentials. You have {attempts} attempt(s) left.\")\n",
    "    print(\"No attempts left. Exiting...\")\n",
    "    return\n",
    "\n",
    "# Admin actions\n",
    "def admin_actions():\n",
    "    while True:\n",
    "        print(\"Press:\")\n",
    "        print(\"1 to Conduct Election\")\n",
    "        print(\"2 to Add Voter\")\n",
    "        print(\"3 to Update Voter\")\n",
    "        print(\"4 to Add Candidate\")\n",
    "        print(\"5 to LOG OUT\")\n",
    "        choice = input(\"Enter choice: \")\n",
    "\n",
    "        if choice == '1':\n",
    "            conduct_election()\n",
    "        elif choice == '2':\n",
    "            add_voter_action()\n",
    "        elif choice == '3':\n",
    "            update_voter()\n",
    "        elif choice == '4':\n",
    "            add_candidate_action()\n",
    "        elif choice == '5':\n",
    "            print(\"Logging out...\")\n",
    "            return\n",
    "        else:\n",
    "            print(\"Invalid choice. Please try again.\")\n",
    "\n",
    "# Conduct election\n",
    "def conduct_election():\n",
    "    while True:\n",
    "        name = input(\"Enter Constituency Name: \")\n",
    "        if constituency_exists(name):\n",
    "            print(\"Election details already present for this Constituency!\")\n",
    "        else:\n",
    "            print(\"Constituency Added!\")\n",
    "            month = int(input(\"Enter Month: \"))\n",
    "            day = int(input(\"Enter Day: \"))\n",
    "            hour = int(input(\"Enter Hour: \"))\n",
    "            minute = int(input(\"Enter Minutes: \"))\n",
    "            \n",
    "            try:\n",
    "                # Validate future date\n",
    "                commencement_date = datetime(2024, month, day, hour, minute)\n",
    "                if commencement_date <= datetime.now():\n",
    "                    print(\"Please set a date in the future!\")\n",
    "                    continue\n",
    "                \n",
    "                duration = int(input(\"Enter Election Duration in Days: \"))\n",
    "                end_date = commencement_date + timedelta(days=duration)\n",
    "                \n",
    "                add_constituency(name, commencement_date.isoformat(), end_date.isoformat())\n",
    "                print(f\"Election Start time is {commencement_date.strftime('%a %b %d %H:%M:%S %Y')}\")\n",
    "                print(f\"Election End time is {end_date.strftime('%a %b %d %H:%M:%S %Y')}\")\n",
    "                print(f\"Election Details:\\nConstituency: {name}\\nFrom: {commencement_date.strftime('%Y/%m/%d/%H:%M:%S')}\\nTo: {end_date.strftime('%Y/%m/%d/%H:%M:%S')}\")\n",
    "                return\n",
    "            except ValueError as e:\n",
    "                print(f\"Error: {e}. Please enter valid date and time.\")\n",
    "\n",
    "# Add voter action\n",
    "def add_voter_action():\n",
    "    full_name = input(\"Full Name: \")\n",
    "    constituency = input(\"Please Choose Constituency: \")\n",
    "    dob = input(\"Please Enter Date of Birth in YYYY/MM/DD format: \")\n",
    "\n",
    "    if constituency_exists(constituency):\n",
    "        password = add_voter(full_name, constituency, dob)\n",
    "        print(f\"Voter details added:\\nName: {full_name}\\nConstituency: {constituency}\\nDate of Birth: {dob}\\nPassword: {password}\")\n",
    "    else:\n",
    "        print(\"Constituency does not exist!\")\n",
    "\n",
    "# Update voter action\n",
    "def update_voter():\n",
    "    voter_id = input(\"Enter Voter ID to update: \")\n",
    "    \n",
    "    # Check if voter exists\n",
    "    cursor.execute('SELECT * FROM voters WHERE id = ?', (voter_id,))\n",
    "    voter = cursor.fetchone()\n",
    "    if not voter:\n",
    "        print(\"Voter ID does not exist!\")\n",
    "        return\n",
    "    \n",
    "    print(\"Update:\\n1 Name\\n2 Constituency\\n3 Date of Birth\\n4 Return to Menu\")\n",
    "    choice = input(\"Enter choice: \")\n",
    "\n",
    "    if choice == '1':\n",
    "        new_name = input(\"Enter new full name: \")\n",
    "        cursor.execute('UPDATE voters SET full_name = ? WHERE id = ?', (new_name, voter_id))\n",
    "    elif choice == '2':\n",
    "        new_constituency = input(\"Enter new constituency: \")\n",
    "        if constituency_exists(new_constituency):\n",
    "            cursor.execute('UPDATE voters SET constituency = ? WHERE id = ?', (new_constituency, voter_id))\n",
    "        else:\n",
    "            print(\"Constituency does not exist!\")\n",
    "            return\n",
    "    elif choice == '3':\n",
    "        new_dob = input(\"Enter new Date of Birth in YYYY/MM/DD format: \")\n",
    "        cursor.execute('UPDATE voters SET dob = ? WHERE id = ?', (new_dob, voter_id))\n",
    "    elif choice == '4':\n",
    "        return\n",
    "    else:\n",
    "        print(\"Invalid choice.\")\n",
    "        return\n",
    "    \n",
    "    conn.commit()\n",
    "    print(\"Voter details updated!\")\n",
    "\n",
    "# Voter login\n",
    "def voter_login():\n",
    "    print(\"Welcome! You have 3 login attempts.\")\n",
    "    attempts = 3\n",
    "    while attempts > 0:\n",
    "        voter_id = input(\"Please Enter Voter ID: \")\n",
    "        password = input(\"Please Enter Password: \")\n",
    "\n",
    "        if validate_voter(voter_id, password):\n",
    "            print(f\"Welcome Voter {voter_id}!\")\n",
    "            voter_actions(voter_id)\n",
    "            return\n",
    "        else:\n",
    "            attempts -= 1\n",
    "            print(f\"Invalid credentials. You have {attempts} attempt(s) left.\")\n",
    "    print(\"No attempts left. Exiting...\")\n",
    "    return\n",
    "\n",
    "# Voter actions\n",
    "def voter_actions(voter_id):\n",
    "    while True:\n",
    "        print(\"Press:\")\n",
    "        print(\"1 to VOTE\")\n",
    "        print(\"2 to CHECK RESULT\")\n",
    "        print(\"3 to CHECK LIVE POLL\")\n",
    "        print(\"4 to LOG OUT\")\n",
    "        choice = input(\"Enter choice: \")\n",
    "\n",
    "        if choice == '1':\n",
    "            vote(voter_id)\n",
    "        elif choice == '2':\n",
    "            check_result()\n",
    "        elif choice == '3':\n",
    "            check_live_poll()\n",
    "        elif choice == '4':\n",
    "            print(\"Logging out...\")\n",
    "            return\n",
    "        else:\n",
    "            print(\"Invalid choice. Please try again.\")\n",
    "\n",
    "# Voting functionality\n",
    "def vote(voter_id):\n",
    "    cursor.execute('SELECT constituency FROM voters WHERE id = ?', (voter_id,))\n",
    "    voter = cursor.fetchone()\n",
    "    if not voter:\n",
    "        print(\"Voter not found.\")\n",
    "        return\n",
    "\n",
    "    constituency_name = voter[0]\n",
    "    cursor.execute('SELECT id, name FROM candidates WHERE constituency = ?', (constituency_name,))\n",
    "    candidates = cursor.fetchall()\n",
    "    \n",
    "    if not candidates:\n",
    "        print(\"No candidates available for this constituency.\")\n",
    "        return\n",
    "\n",
    "    print(\"Candidates:\")\n",
    "    for candidate in candidates:\n",
    "        print(f\"{candidate[0]}: {candidate[1]}\")\n",
    "\n",
    "    candidate_id = input(\"Enter the ID of the candidate you want to vote for: \")\n",
    "\n",
    "    # Check if the voter has already voted\n",
    "    cursor.execute('SELECT * FROM votes WHERE voter_id = ? AND candidate_id = ?', (voter_id, candidate_id))\n",
    "    if cursor.fetchone():\n",
    "        print(\"You have already voted for this candidate.\")\n",
    "        return\n",
    "\n",
    "    cursor.execute('INSERT INTO votes (voter_id, candidate_id) VALUES (?, ?)', (voter_id, candidate_id))\n",
    "    conn.commit()\n",
    "    print(\"Your vote has been recorded.\")\n",
    "\n",
    "\n",
    "    \n",
    "\n",
    "# Check election result\n",
    "def check_result():\n",
    "    constituency = input(\"Enter Constituency Name: \")\n",
    "    cursor.execute('SELECT id, name FROM candidates WHERE constituency = ?', (constituency,))\n",
    "    candidates = cursor.fetchall()\n",
    "    \n",
    "    if not candidates:\n",
    "        print(\"No candidates found for this constituency.\")\n",
    "        return\n",
    "\n",
    "    print(\"Results:\")\n",
    "    for candidate in candidates:\n",
    "        candidate_id = candidate[0]\n",
    "        cursor.execute('SELECT COUNT(*) FROM votes WHERE candidate_id = ?', (candidate_id,))\n",
    "        vote_count = cursor.fetchone()[0]\n",
    "        print(f\"Candidate: {candidate[1]}, Votes: {vote_count}\")\n",
    "\n",
    "\n",
    "# Check live poll status\n",
    "def check_live_poll():\n",
    "    constituency = input(\"Enter Constituency Name: \")\n",
    "    cursor.execute('SELECT commencement_date, end_date FROM constituencies WHERE name = ?', (constituency,))\n",
    "    election = cursor.fetchone()\n",
    "    \n",
    "    if not election:\n",
    "        print(\"No election details found for this constituency.\")\n",
    "        return\n",
    "\n",
    "    commencement_date, end_date = election\n",
    "    commencement_date = datetime.fromisoformat(commencement_date)\n",
    "    end_date = datetime.fromisoformat(end_date)\n",
    "    \n",
    "    if datetime.now() < commencement_date:\n",
    "        print(f\"Poll has not started yet. It will start on {commencement_date.strftime('%a %b %d %H:%M:%S %Y')}.\")\n",
    "    elif datetime.now() > end_date:\n",
    "        print(f\"Poll has ended. It ended on {end_date.strftime('%a %b %d %H:%M:%S %Y')}.\")\n",
    "    else:\n",
    "        print(\"Poll is currently live.\")\n",
    "        cursor.execute('SELECT id, name FROM candidates WHERE constituency = ?', (constituency,))\n",
    "        candidates = cursor.fetchall()\n",
    "        \n",
    "        if not candidates:\n",
    "            print(\"No candidates available for this constituency.\")\n",
    "            return\n",
    "\n",
    "        print(\"Current Candidates:\")\n",
    "        for candidate in candidates:\n",
    "            candidate_id = candidate[0]\n",
    "            cursor.execute('SELECT COUNT(*) FROM votes WHERE candidate_id = ?', (candidate_id,))\n",
    "            vote_count = cursor.fetchone()[0]\n",
    "            print(f\"Candidate: {candidate[1]}, Votes: {vote_count}\")\n",
    "\n",
    "\n",
    "if __name__ == \"__main__\":\n",
    "    main_menu()\n",
    "    conn.close()\n"
   ]
  },
  {
   "cell_type": "code",
   "execution_count": null,
   "id": "5030fd41-3f0b-42ae-b774-5aeb7f0714c6",
   "metadata": {},
   "outputs": [],
   "source": []
  }
 ],
 "metadata": {
  "kernelspec": {
   "display_name": "Python 3 (ipykernel)",
   "language": "python",
   "name": "python3"
  },
  "language_info": {
   "codemirror_mode": {
    "name": "ipython",
    "version": 3
   },
   "file_extension": ".py",
   "mimetype": "text/x-python",
   "name": "python",
   "nbconvert_exporter": "python",
   "pygments_lexer": "ipython3",
   "version": "3.12.4"
  }
 },
 "nbformat": 4,
 "nbformat_minor": 5
}
